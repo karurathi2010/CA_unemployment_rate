{
 "cells": [
  {
   "cell_type": "code",
   "execution_count": 2,
   "metadata": {},
   "outputs": [],
   "source": [
    "#Import dependencies\n",
    "import pandas as pd"
   ]
  },
  {
   "cell_type": "code",
   "execution_count": 21,
   "metadata": {},
   "outputs": [],
   "source": [
    "#Read in employment and unemployment datasets to pandas dataframe\n",
    "try:\n",
    "    employment_df = pd.read_csv('../source_data/california_employment_data.csv')\n",
    "    unemployment_df = pd.read_csv('../source_data/california_unemployment_data.csv')\n",
    "    unemployment_df = unemployment_df.drop(unemployment_df[unemployment_df[\"Area Type\"]==\"Sub-County Place\"].index)\n",
    "    employment_df = employment_df.drop(employment_df[employment_df[\"Seasonally Adjusted (Y/N)\"] == \"Y\"].index)\n",
    "    unemployment_df = unemployment_df.drop(unemployment_df[unemployment_df[\"Seasonally Adjusted(Y/N)\"]==\"Y\"].index)\n",
    "    unemployment_df = unemployment_df.drop('Seasonally Adjusted(Y/N)', axis = 1)\n",
    "    employment_df = employment_df.drop(\"Seasonally Adjusted (Y/N)\", axis = 1)\n",
    "    employment_df = employment_df.drop(\"Series Code\", axis = 1)\n",
    "    unemployment_df = unemployment_df.drop(\"Status\", axis = 1)\n",
    "    unemployment_df = unemployment_df.drop(unemployment_df[unemployment_df[\"Year\"]<2014].index)\n",
    "    updated_employment_data = pd.merge(employment_df, unemployment_df, on = ['Area Type','Area Name', \"Year\", \"Month\"], how = \"left\")\n",
    "    updated_employment_data = updated_employment_data.drop(['Date_Numeric'], axis = 1)\n",
    "    updated_employment_data = updated_employment_data.rename(columns={\"Current Employment\":\"Industry Current Employment\",\n",
    "                                                                  \"Employment\":\"Regional Employment\",\n",
    "                                                                  \"Unemployment\":\"Regional Unemployment\",\n",
    "                                                                  \"Unemployment Rate\": \"Regional Unemployment Rate\",\n",
    "                                                                  \"Labor Force\": \"Regional Labor Force\"})\n",
    "    Location_df = updated_employment_data[\"Area Name\"].unique()\n",
    "    pd.DataFrame(Location_df).to_csv(\"../data/Location_df.csv\", mode = \"w\")\n",
    "    #Processed latitude and longitude data in Excel\n",
    "    Location_df = pd.read_csv(\"../data/Location_df_v2.csv\")\n",
    "    updated_employment_data = pd.merge(updated_employment_data,Location_df,on = \"Area Name\", how = \"inner\")\n",
    "    updated_employment_data = updated_employment_data.drop(updated_employment_data.columns[11], axis = 1)\n",
    "    updated_employment_data[\"lat\"] = pd.to_numeric(updated_employment_data[\"lat\"], errors='coerce').astype(float)\n",
    "    updated_employment_data[\"long\"] = pd.to_numeric(updated_employment_data[\"long\"], errors='coerce').astype(float)\n",
    "    updated_employment_data.to_csv(\"../data/updated_employment_data.csv\")\n",
    "    updated_csv = updated_employment_data\n",
    "    county_employment_data = updated_csv.loc[updated_csv[\"Area Type\"] == \"County\"]\n",
    "    state_employment_data = updated_csv.loc[updated_csv[\"Area Type\"] == \"State\"]\n",
    "    metropolitan_area_data = updated_csv.loc[updated_csv[\"Area Type\"] == \"Metropolitan Area\"]\n",
    "    county_employment_data.to_csv(\"../data/county_employment_data.csv\",mode = \"w\")\n",
    "    state_employment_data.to_csv(\"../data/state_employment_data.csv\",mode = \"w\")\n",
    "    metropolitan_area_data.to_csv(\"../data/metropolitan_area_data.csv\",mode = \"w\")\n",
    "except FileNotFoundError:\n",
    "        print(\"Data files not found\")"
   ]
  },
  {
   "cell_type": "code",
   "execution_count": 18,
   "metadata": {},
   "outputs": [
    {
     "ename": "NameError",
     "evalue": "name 'sorted_data' is not defined",
     "output_type": "error",
     "traceback": [
      "\u001b[1;31m---------------------------------------------------------------------------\u001b[0m",
      "\u001b[1;31mNameError\u001b[0m                                 Traceback (most recent call last)",
      "Cell \u001b[1;32mIn[18], line 5\u001b[0m\n\u001b[0;32m      2\u001b[0m county_unemployment_sorted_data \u001b[38;5;241m=\u001b[39m county_employment_data\u001b[38;5;241m.\u001b[39msort_values(by\u001b[38;5;241m=\u001b[39m\u001b[38;5;124m'\u001b[39m\u001b[38;5;124mRegional Unemployment Rate\u001b[39m\u001b[38;5;124m'\u001b[39m)\n\u001b[0;32m      4\u001b[0m \u001b[38;5;66;03m# Get the Top 10 and Bottom 10 industries\u001b[39;00m\n\u001b[1;32m----> 5\u001b[0m top_10 \u001b[38;5;241m=\u001b[39m \u001b[43msorted_data\u001b[49m\u001b[38;5;241m.\u001b[39mtail(\u001b[38;5;241m10\u001b[39m)  \u001b[38;5;66;03m# Top 10 industries\u001b[39;00m\n\u001b[0;32m      6\u001b[0m bottom_10 \u001b[38;5;241m=\u001b[39m sorted_data\u001b[38;5;241m.\u001b[39mhead(\u001b[38;5;241m10\u001b[39m)  \u001b[38;5;66;03m# Bottom 10 industries\u001b[39;00m\n\u001b[0;32m      7\u001b[0m top_10_df\u001b[38;5;241m=\u001b[39mpd\u001b[38;5;241m.\u001b[39mDataFrame(top_10)\n",
      "\u001b[1;31mNameError\u001b[0m: name 'sorted_data' is not defined"
     ]
    }
   ],
   "source": [
    "# Sort industries based on employment rates\n",
    "county_unemployment_sorted_data = county_employment_data.sort_values(by='Regional Unemployment Rate')\n",
    "\n",
    "# Get the Top 10 and Bottom 10 industries\n",
    "top_10 = sorted_data.tail(10)  # Top 10 industries\n",
    "bottom_10 = sorted_data.head(10)  # Bottom 10 industries\n",
    "top_10_df=pd.DataFrame(top_10)\n",
    "bottom_10_df=pd.DataFrame(bottom_10)\n",
    "\n",
    "print(\"Top 10 Industries based on Unemployment Rate:\")\n",
    "top_10_df[['Year','Month','Industry Title', 'Regional Unemployment Rate']].reset_index(drop=True)\n",
    "# print(top_10[['Industry Title', 'Regional Unemployment Rate']])\n",
    "# print(\"\\nBottom 10 Industries based on Employment Rate:\")\n",
    "# bottom_10_df[['Industry Title', 'Regional Unemployment Rate']]\n",
    "# print(bottom_10[['Industry Title', 'Regional Unemployment Rate']])"
   ]
  },
  {
   "cell_type": "code",
   "execution_count": null,
   "metadata": {},
   "outputs": [
    {
     "name": "stdout",
     "output_type": "stream",
     "text": [
      "\n",
      "Bottom 10 Industries based on Unemployment Rate:\n"
     ]
    },
    {
     "data": {
      "text/html": [
       "<div>\n",
       "<style scoped>\n",
       "    .dataframe tbody tr th:only-of-type {\n",
       "        vertical-align: middle;\n",
       "    }\n",
       "\n",
       "    .dataframe tbody tr th {\n",
       "        vertical-align: top;\n",
       "    }\n",
       "\n",
       "    .dataframe thead th {\n",
       "        text-align: right;\n",
       "    }\n",
       "</style>\n",
       "<table border=\"1\" class=\"dataframe\">\n",
       "  <thead>\n",
       "    <tr style=\"text-align: right;\">\n",
       "      <th></th>\n",
       "      <th>Year</th>\n",
       "      <th>Month</th>\n",
       "      <th>Industry Title</th>\n",
       "      <th>Regional Unemployment Rate</th>\n",
       "    </tr>\n",
       "  </thead>\n",
       "  <tbody>\n",
       "    <tr>\n",
       "      <th>0</th>\n",
       "      <td>2019</td>\n",
       "      <td>May</td>\n",
       "      <td>Finance and Insurance</td>\n",
       "      <td>1.8</td>\n",
       "    </tr>\n",
       "    <tr>\n",
       "      <th>1</th>\n",
       "      <td>2019</td>\n",
       "      <td>April</td>\n",
       "      <td>Total Farm</td>\n",
       "      <td>1.8</td>\n",
       "    </tr>\n",
       "    <tr>\n",
       "      <th>2</th>\n",
       "      <td>2019</td>\n",
       "      <td>April</td>\n",
       "      <td>Total Wage and Salary</td>\n",
       "      <td>1.8</td>\n",
       "    </tr>\n",
       "    <tr>\n",
       "      <th>3</th>\n",
       "      <td>2019</td>\n",
       "      <td>April</td>\n",
       "      <td>Local Government</td>\n",
       "      <td>1.8</td>\n",
       "    </tr>\n",
       "    <tr>\n",
       "      <th>4</th>\n",
       "      <td>2019</td>\n",
       "      <td>April</td>\n",
       "      <td>Government</td>\n",
       "      <td>1.8</td>\n",
       "    </tr>\n",
       "    <tr>\n",
       "      <th>5</th>\n",
       "      <td>2019</td>\n",
       "      <td>April</td>\n",
       "      <td>Accommodation and Food Services</td>\n",
       "      <td>1.8</td>\n",
       "    </tr>\n",
       "    <tr>\n",
       "      <th>6</th>\n",
       "      <td>2019</td>\n",
       "      <td>April</td>\n",
       "      <td>Federal Government</td>\n",
       "      <td>1.8</td>\n",
       "    </tr>\n",
       "    <tr>\n",
       "      <th>7</th>\n",
       "      <td>2019</td>\n",
       "      <td>April</td>\n",
       "      <td>Other Services</td>\n",
       "      <td>1.8</td>\n",
       "    </tr>\n",
       "    <tr>\n",
       "      <th>8</th>\n",
       "      <td>2019</td>\n",
       "      <td>April</td>\n",
       "      <td>Arts, Entertainment, and Recreation</td>\n",
       "      <td>1.8</td>\n",
       "    </tr>\n",
       "    <tr>\n",
       "      <th>9</th>\n",
       "      <td>2019</td>\n",
       "      <td>April</td>\n",
       "      <td>Leisure and Hospitality</td>\n",
       "      <td>1.8</td>\n",
       "    </tr>\n",
       "  </tbody>\n",
       "</table>\n",
       "</div>"
      ],
      "text/plain": [
       "   Year  Month                                Industry Title  \\\n",
       "0  2019    May                         Finance and Insurance   \n",
       "1  2019  April                                    Total Farm   \n",
       "2  2019  April                         Total Wage and Salary   \n",
       "3  2019  April                              Local Government   \n",
       "4  2019  April                                    Government   \n",
       "5  2019  April               Accommodation and Food Services   \n",
       "6  2019  April                            Federal Government   \n",
       "7  2019  April                                Other Services   \n",
       "8  2019  April           Arts, Entertainment, and Recreation   \n",
       "9  2019  April                       Leisure and Hospitality   \n",
       "\n",
       "   Regional Unemployment Rate  \n",
       "0                         1.8  \n",
       "1                         1.8  \n",
       "2                         1.8  \n",
       "3                         1.8  \n",
       "4                         1.8  \n",
       "5                         1.8  \n",
       "6                         1.8  \n",
       "7                         1.8  \n",
       "8                         1.8  \n",
       "9                         1.8  "
      ]
     },
     "execution_count": 25,
     "metadata": {},
     "output_type": "execute_result"
    }
   ],
   "source": [
    "print(\"\\nBottom 10 Industries based on Unemployment Rate:\")\n",
    "bottom_10_df[['Year','Month','Industry Title', 'Regional Unemployment Rate']].reset_index(drop=True)\n"
   ]
  },
  {
   "cell_type": "code",
   "execution_count": 22,
   "metadata": {},
   "outputs": [
    {
     "data": {
      "text/plain": [
       "Area Type                       object\n",
       "Area Name                       object\n",
       "Year                             int64\n",
       "Month                           object\n",
       "Date                            object\n",
       "Industry Title                  object\n",
       "Industry Current Employment      int64\n",
       "Regional Labor Force             int64\n",
       "Regional Employment              int64\n",
       "Regional Unemployment            int64\n",
       "Regional Unemployment Rate     float64\n",
       "lat                            float64\n",
       "long                           float64\n",
       "dtype: object"
      ]
     },
     "execution_count": 22,
     "metadata": {},
     "output_type": "execute_result"
    }
   ],
   "source": [
    "updated_employment_data.dtypes\n"
   ]
  }
 ],
 "metadata": {
  "kernelspec": {
   "display_name": "Python 3 (ipykernel)",
   "language": "python",
   "name": "python3"
  },
  "language_info": {
   "codemirror_mode": {
    "name": "ipython",
    "version": 3
   },
   "file_extension": ".py",
   "mimetype": "text/x-python",
   "name": "python",
   "nbconvert_exporter": "python",
   "pygments_lexer": "ipython3",
   "version": "3.10.13"
  }
 },
 "nbformat": 4,
 "nbformat_minor": 4
}
