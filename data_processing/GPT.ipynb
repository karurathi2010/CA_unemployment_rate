{
 "cells": [
  {
   "cell_type": "code",
   "execution_count": 3,
   "metadata": {},
   "outputs": [],
   "source": [
    "from openai import OpenAI\n",
    "import os\n",
    "from OpenAI_API_KEY import key\n",
    "import pandas as pd"
   ]
  },
  {
   "cell_type": "code",
   "execution_count": 11,
   "metadata": {},
   "outputs": [],
   "source": [
    "\n",
    "API_URL = 'https://api.openai.com/v1/engines/gpt-3.5-turbo/completions'\n",
    "\n",
    "client = OpenAI(api_key = key)\n",
    "\n",
    "def gpt_brief(county):\n",
    "  completion = client.chat.completions.create(\n",
    "    model=\"gpt-3.5-turbo\",\n",
    "    messages=[\n",
    "      {\"role\": \"system\", \"content\": \"You are a analytical graphing assistant.\"},\n",
    "      {\"role\": \"user\", \"content\": f\"Give me a brief analysis of the employment environment of {county}.\"}\n",
    "    ]\n",
    "  )\n",
    "  return(completion.choices[0].message.content)\n",
    "\n",
    "html_chart_template_example = \"\"\"<body>\n",
    "    <div class=\"chart-container\">\n",
    "        <canvas id=\"EmploymentBarChart\"></canvas>\n",
    "    </div>\n",
    "    <script src=\"https://cdn.jsdelivr.net/npm/chart.js\"></script>\n",
    "    <script>\n",
    "        const data = {\n",
    "            labels: [\n",
    "                \"Total Nonfarm\",\n",
    "                \"Service-Providing\",\n",
    "                \"Total Wage and Salary\",\n",
    "                \"Total Private\",\n",
    "                \"Total State and Local Government\",\n",
    "                \"Total Private\",\n",
    "                \"Government\",\n",
    "                \"Local Government\",\n",
    "                \"Private Service Providing\",\n",
    "                \"Retail Trade\",\n",
    "                \"Professional and Business Services\",\n",
    "                \"Trade, Transportation, and Utilities\",\n",
    "                \"Goods Producing\",\n",
    "                \"Leisure and Hospitality\",\n",
    "                \"Private Education and Health Services\",\n",
    "                \"Mining, Logging and Construction\",\n",
    "                \"Non-Durable Goods\",\n",
    "                \"Manufacturing\",\n",
    "                \"Financial Activities\",\n",
    "                \"Construction\",\n",
    "                \"Information\",\n",
    "                \"Mining and Logging\",\n",
    "                \"State Government\",\n",
    "                \"Total Farm\",\n",
    "                \"Wholesale Trade\",\n",
    "                \"Transportation, Warehousing, and Utili...\",\n",
    "                \"Durable Goods\",\n",
    "                \"Other Services\",\n",
    "                \"Federal Government\"\n",
    "            ],\n",
    "            datasets: [{\n",
    "                label: 'Industry Current Employment',\n",
    "                data: [12430, 10780, 12690, 7620, 4740, 7620, 4810, 2750, 5960, 1400, 560, 1680, 1660, 1270, 1630, 860, 600, 800, 250, 570, 160, 290, 1990, 260, 60, 220, 200, 430, 70],\n",
    "                backgroundColor: 'rgba(54, 162, 235, 0.2)',\n",
    "                borderColor: 'rgba(54, 162, 235, 1)',\n",
    "                borderWidth: 1\n",
    "            }]\n",
    "        };\n",
    "\n",
    "        const config = {\n",
    "            type: 'bar',\n",
    "            data: data,\n",
    "            options: {\n",
    "                indexAxis: 'y',\n",
    "                elements: {\n",
    "                    bar: {\n",
    "                        borderWidth: 2,\n",
    "                    }\n",
    "                },\n",
    "                responsive: true,\n",
    "                plugins: {\n",
    "                    legend: {\n",
    "                        position: 'top',\n",
    "                    }\n",
    "                }\n",
    "            },\n",
    "        };\n",
    "\n",
    "        window.onload = function() {\n",
    "            const ctx = document.getElementById('EmploymentBarChart').getContext('2d');\n",
    "            new Chart(ctx, config);\n",
    "        };\n",
    "    </script>\n",
    "</body>\n",
    "\"\"\"\n",
    "def gpt_bar_chart(data):\n",
    "  completion = client.chat.completions.create(\n",
    "  model=\"gpt-4o\",\n",
    "  messages=[\n",
    "    {\"role\": \"system\", \"content\": \"You are a analytical graphing assistant.\"},\n",
    "    {\"role\": \"user\", \"content\": f\"Generate a sorted (from high to low) html bar chart with the given dataframe using leaflet. Only give me the body section of the html without a title or header.{data} use the following html template as example.{html_chart_template_example}\"}\n",
    "  ]\n",
    "  )\n",
    "  return(completion.choices[0].message.content)"
   ]
  },
  {
   "cell_type": "code",
   "execution_count": 14,
   "metadata": {},
   "outputs": [],
   "source": [
    "employment_breif = []\n",
    "location_df = pd.read_csv(\"../data/Location_df_v2.csv\")\n",
    "for index, row in location_df.iterrows():\n",
    "    employment_breif.append(gpt_brief(row['Area Name']))\n",
    "employment_breif_df = pd.DataFrame(employment_breif)"
   ]
  },
  {
   "cell_type": "code",
   "execution_count": 20,
   "metadata": {},
   "outputs": [],
   "source": [
    "employment_breif_df = employment_breif_df.astype(str)\n",
    "employment_breif_df.to_csv(\"../data/employment_summary_df.csv\")\n"
   ]
  },
  {
   "cell_type": "code",
   "execution_count": 9,
   "metadata": {},
   "outputs": [
    {
     "data": {
      "text/plain": [
       "74"
      ]
     },
     "execution_count": 9,
     "metadata": {},
     "output_type": "execute_result"
    }
   ],
   "source": [
    "county_employment_df = pd.read_csv(\"../data/updated_employment_data.csv\")\n",
    "current_employment_df = county_employment_df.loc[(county_employment_df[\"Year\"] == 2024)&(county_employment_df[\"Month\"] == \"April\")]\n",
    "current_location_list = current_employment_df[\"Area Name\"].unique()\n",
    "html_list = []\n",
    "len(current_location_list)"
   ]
  },
  {
   "cell_type": "code",
   "execution_count": 12,
   "metadata": {},
   "outputs": [],
   "source": [
    "for county in current_location_list:\n",
    "    per_county_employment_df = current_employment_df[current_employment_df['Area Name'] == county][['Industry Title','Industry Current Employment']]\n",
    "    html_list.append(gpt_bar_chart(per_county_employment_df))\n"
   ]
  },
  {
   "cell_type": "code",
   "execution_count": 28,
   "metadata": {},
   "outputs": [],
   "source": [
    "gpt_bar_df = pd.DataFrame({\"Area Name\": current_location_list, \"Chart\": html_list})\n",
    "gpt_bar_df[\"Chart\"] = gpt_bar_df[\"Chart\"].astype(str)"
   ]
  },
  {
   "cell_type": "code",
   "execution_count": 35,
   "metadata": {},
   "outputs": [],
   "source": [
    "gpt_bar_df.to_csv(\"../data/html_chart.csv\", index = False)"
   ]
  },
  {
   "cell_type": "code",
   "execution_count": 37,
   "metadata": {},
   "outputs": [
    {
     "data": {
      "text/html": [
       "<div>\n",
       "<style scoped>\n",
       "    .dataframe tbody tr th:only-of-type {\n",
       "        vertical-align: middle;\n",
       "    }\n",
       "\n",
       "    .dataframe tbody tr th {\n",
       "        vertical-align: top;\n",
       "    }\n",
       "\n",
       "    .dataframe thead th {\n",
       "        text-align: right;\n",
       "    }\n",
       "</style>\n",
       "<table border=\"1\" class=\"dataframe\">\n",
       "  <thead>\n",
       "    <tr style=\"text-align: right;\">\n",
       "      <th></th>\n",
       "      <th>Area Name</th>\n",
       "      <th>Chart</th>\n",
       "    </tr>\n",
       "  </thead>\n",
       "  <tbody>\n",
       "    <tr>\n",
       "      <th>0</th>\n",
       "      <td>Alpine County</td>\n",
       "      <td>\\n&lt;body&gt;\\n    &lt;div class=\"chart-container\"&gt;\\n ...</td>\n",
       "    </tr>\n",
       "    <tr>\n",
       "      <th>1</th>\n",
       "      <td>Amador County</td>\n",
       "      <td>\\n&lt;body&gt;\\n    &lt;div class=\"chart-container\"&gt;\\n ...</td>\n",
       "    </tr>\n",
       "    <tr>\n",
       "      <th>2</th>\n",
       "      <td>Butte County</td>\n",
       "      <td>&lt;body&gt;\\n    &lt;div class=\"chart-container\"&gt;\\n   ...</td>\n",
       "    </tr>\n",
       "    <tr>\n",
       "      <th>3</th>\n",
       "      <td>Calaveras County</td>\n",
       "      <td>\\n&lt;body&gt;\\n    &lt;div class=\"chart-container\"&gt;\\n ...</td>\n",
       "    </tr>\n",
       "    <tr>\n",
       "      <th>4</th>\n",
       "      <td>Colusa County</td>\n",
       "      <td>\\n&lt;body&gt;\\n    &lt;div class=\"chart-container\"&gt;\\n ...</td>\n",
       "    </tr>\n",
       "    <tr>\n",
       "      <th>...</th>\n",
       "      <td>...</td>\n",
       "      <td>...</td>\n",
       "    </tr>\n",
       "    <tr>\n",
       "      <th>69</th>\n",
       "      <td>Stockton-Lodi MSA</td>\n",
       "      <td>\\n&lt;body&gt;\\n    &lt;div class=\"chart-container\"&gt;\\n ...</td>\n",
       "    </tr>\n",
       "    <tr>\n",
       "      <th>70</th>\n",
       "      <td>Vallejo-Fairfield MSA</td>\n",
       "      <td>\\n&lt;body&gt;\\n    &lt;div class=\"chart-container\"&gt;\\n ...</td>\n",
       "    </tr>\n",
       "    <tr>\n",
       "      <th>71</th>\n",
       "      <td>Visalia-Porterville MSA</td>\n",
       "      <td>\\n&lt;body&gt;\\n    &lt;div class=\"chart-container\"&gt;\\n ...</td>\n",
       "    </tr>\n",
       "    <tr>\n",
       "      <th>72</th>\n",
       "      <td>Yuba City MSA</td>\n",
       "      <td>\\n&lt;body&gt;\\n    &lt;div class=\"chart-container\"&gt;\\n ...</td>\n",
       "    </tr>\n",
       "    <tr>\n",
       "      <th>73</th>\n",
       "      <td>California</td>\n",
       "      <td>\\n&lt;body&gt;\\n    &lt;div class=\"chart-container\"&gt;\\n ...</td>\n",
       "    </tr>\n",
       "  </tbody>\n",
       "</table>\n",
       "<p>74 rows × 2 columns</p>\n",
       "</div>"
      ],
      "text/plain": [
       "                  Area Name                                              Chart\n",
       "0             Alpine County  \\n<body>\\n    <div class=\"chart-container\">\\n ...\n",
       "1             Amador County  \\n<body>\\n    <div class=\"chart-container\">\\n ...\n",
       "2              Butte County  <body>\\n    <div class=\"chart-container\">\\n   ...\n",
       "3          Calaveras County  \\n<body>\\n    <div class=\"chart-container\">\\n ...\n",
       "4             Colusa County  \\n<body>\\n    <div class=\"chart-container\">\\n ...\n",
       "..                      ...                                                ...\n",
       "69        Stockton-Lodi MSA  \\n<body>\\n    <div class=\"chart-container\">\\n ...\n",
       "70    Vallejo-Fairfield MSA  \\n<body>\\n    <div class=\"chart-container\">\\n ...\n",
       "71  Visalia-Porterville MSA  \\n<body>\\n    <div class=\"chart-container\">\\n ...\n",
       "72            Yuba City MSA  \\n<body>\\n    <div class=\"chart-container\">\\n ...\n",
       "73               California  \\n<body>\\n    <div class=\"chart-container\">\\n ...\n",
       "\n",
       "[74 rows x 2 columns]"
      ]
     },
     "execution_count": 37,
     "metadata": {},
     "output_type": "execute_result"
    }
   ],
   "source": [
    "gpt_chart_df = pd.read_csv(\"../data/html_chart.csv\")\n",
    "gpt_chart_df"
   ]
  }
 ],
 "metadata": {
  "kernelspec": {
   "display_name": "dev",
   "language": "python",
   "name": "python3"
  },
  "language_info": {
   "codemirror_mode": {
    "name": "ipython",
    "version": 3
   },
   "file_extension": ".py",
   "mimetype": "text/x-python",
   "name": "python",
   "nbconvert_exporter": "python",
   "pygments_lexer": "ipython3",
   "version": "3.10.13"
  }
 },
 "nbformat": 4,
 "nbformat_minor": 2
}
